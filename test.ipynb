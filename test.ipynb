{
 "cells": [
  {
   "cell_type": "code",
   "execution_count": 24,
   "metadata": {},
   "outputs": [],
   "source": [
    "import pdfplumber\n",
    "\n",
    "def extract_tables_to_markdown(pdf_path):\n",
    "    # Open the PDF file\n",
    "    with pdfplumber.open(pdf_path) as pdf:\n",
    "        markdown_tables = []\n",
    "        \n",
    "        # Iterate through each page in the PDF\n",
    "        for page_number, page in enumerate(pdf.pages, start=1):\n",
    "            tables = page.extract_tables()    \n",
    "            markdown_tables.append(tables)\n",
    "        return markdown_tables\n",
    "\n",
    "# Provide the path to your PDF\n",
    "pdf_path = r\"A:\\Workspace-2024\\loan_analysis_app\\data\\commercial_registration_form.pdf\"\n",
    "\n",
    "# Extract and convert tables to Markdown\n",
    "markdown_content = extract_tables_to_markdown(pdf_path)\n"
   ]
  },
  {
   "cell_type": "code",
   "execution_count": null,
   "metadata": {},
   "outputs": [
    {
     "ename": "TypeError",
     "evalue": "expected string or bytes-like object, got 'list'",
     "output_type": "error",
     "traceback": [
      "\u001b[1;31m---------------------------------------------------------------------------\u001b[0m",
      "\u001b[1;31mTypeError\u001b[0m                                 Traceback (most recent call last)",
      "Cell \u001b[1;32mIn[29], line 15\u001b[0m\n\u001b[0;32m     12\u001b[0m     \u001b[38;5;28;01mreturn\u001b[39;00m \u001b[38;5;28;01mNone\u001b[39;00m\n\u001b[0;32m     14\u001b[0m \u001b[38;5;66;03m# Extract specific sections\u001b[39;00m\n\u001b[1;32m---> 15\u001b[0m general_info \u001b[38;5;241m=\u001b[39m \u001b[43mextract_section\u001b[49m\u001b[43m(\u001b[49m\u001b[43mdata\u001b[49m\u001b[43m,\u001b[49m\u001b[43m \u001b[49m\u001b[38;5;124;43m\"\u001b[39;49m\u001b[38;5;124;43mGENERAL INFORMATION\u001b[39;49m\u001b[38;5;124;43m\"\u001b[39;49m\u001b[43m)\u001b[49m\n\u001b[0;32m     16\u001b[0m marketing_info \u001b[38;5;241m=\u001b[39m extract_section(data, \u001b[38;5;124m\"\u001b[39m\u001b[38;5;124mMARKETING INFORMATION\u001b[39m\u001b[38;5;124m\"\u001b[39m)\n\u001b[0;32m     17\u001b[0m technical_info \u001b[38;5;241m=\u001b[39m extract_section(data, \u001b[38;5;124m\"\u001b[39m\u001b[38;5;124mTECHNICAL INFORMATION\u001b[39m\u001b[38;5;124m\"\u001b[39m)\n",
      "Cell \u001b[1;32mIn[29], line 9\u001b[0m, in \u001b[0;36mextract_section\u001b[1;34m(data, section_name)\u001b[0m\n\u001b[0;32m      7\u001b[0m \u001b[38;5;28;01mdef\u001b[39;00m \u001b[38;5;21mextract_section\u001b[39m(data, section_name):\n\u001b[0;32m      8\u001b[0m     pattern \u001b[38;5;241m=\u001b[39m re\u001b[38;5;241m.\u001b[39mcompile(\u001b[38;5;124mrf\u001b[39m\u001b[38;5;124m\"\u001b[39m\u001b[38;5;124m\\\u001b[39m\u001b[38;5;124m[\u001b[39m\u001b[38;5;124m\\\u001b[39m\u001b[38;5;124m[\u001b[39m\u001b[38;5;124m'\u001b[39m\u001b[38;5;132;01m{\u001b[39;00mre\u001b[38;5;241m.\u001b[39mescape(section_name)\u001b[38;5;132;01m}\u001b[39;00m\u001b[38;5;124m'\u001b[39m\u001b[38;5;124m\\\u001b[39m\u001b[38;5;124m].*?(?=\u001b[39m\u001b[38;5;124m\\\u001b[39m\u001b[38;5;124m[\u001b[39m\u001b[38;5;124m\\\u001b[39m\u001b[38;5;124m[\u001b[39m\u001b[38;5;124m'\u001b[39m\u001b[38;5;124m[A-Z ]+\u001b[39m\u001b[38;5;124m'\u001b[39m\u001b[38;5;124m|$)\u001b[39m\u001b[38;5;124m\"\u001b[39m, re\u001b[38;5;241m.\u001b[39mDOTALL)\n\u001b[1;32m----> 9\u001b[0m     match \u001b[38;5;241m=\u001b[39m \u001b[43mpattern\u001b[49m\u001b[38;5;241;43m.\u001b[39;49m\u001b[43msearch\u001b[49m\u001b[43m(\u001b[49m\u001b[43mdata\u001b[49m\u001b[43m)\u001b[49m\n\u001b[0;32m     10\u001b[0m     \u001b[38;5;28;01mif\u001b[39;00m match:\n\u001b[0;32m     11\u001b[0m         \u001b[38;5;28;01mreturn\u001b[39;00m match\u001b[38;5;241m.\u001b[39mgroup(\u001b[38;5;241m0\u001b[39m)\n",
      "\u001b[1;31mTypeError\u001b[0m: expected string or bytes-like object, got 'list'"
     ]
    }
   ],
   "source": [
    "import re\n",
    "\n",
    "# Sample data as string\n",
    "data = str(markdown_content)\n",
    "\n",
    "# Function to extract sections using regex\n",
    "def extract_section(data, section_name):\n",
    "    pattern = re.compile(rf\"\\[\\['{re.escape(section_name)}'\\].*?(?=\\[\\['[A-Z ]+'|$)\", re.DOTALL)\n",
    "    match = pattern.search(data)\n",
    "    if match:\n",
    "        return match.group(0)\n",
    "    return None\n",
    "\n",
    "# Extract specific sections\n",
    "general_info = extract_section(data, \"GENERAL INFORMATION\")\n",
    "marketing_info = extract_section(data, \"MARKETING INFORMATION\")\n",
    "technical_info = extract_section(data, \"TECHNICAL INFORMATION\")\n",
    "financial_info = extract_section(data, \"FINANCIAL INFORMATION\")\n",
    "\n",
    "# Print the extracted sections\n",
    "print(\"GENERAL INFORMATION:\")\n",
    "print(general_info if general_info else \"Not found\")\n",
    "\n",
    "print(\"\\nMARKETING INFORMATION:\")\n",
    "print(marketing_info if marketing_info else \"Not found\")\n",
    "\n",
    "print(\"\\nTECHNICAL INFORMATION:\")\n",
    "print(technical_info if technical_info else \"Not found\")\n",
    "\n",
    "print(\"\\nFINANCIAL INFORMATION:\")\n",
    "print(financial_info if financial_info else \"Not found\")\n"
   ]
  },
  {
   "cell_type": "code",
   "execution_count": null,
   "metadata": {},
   "outputs": [],
   "source": []
  }
 ],
 "metadata": {
  "kernelspec": {
   "display_name": ".venv",
   "language": "python",
   "name": "python3"
  },
  "language_info": {
   "codemirror_mode": {
    "name": "ipython",
    "version": 3
   },
   "file_extension": ".py",
   "mimetype": "text/x-python",
   "name": "python",
   "nbconvert_exporter": "python",
   "pygments_lexer": "ipython3",
   "version": "3.12.7"
  }
 },
 "nbformat": 4,
 "nbformat_minor": 2
}
