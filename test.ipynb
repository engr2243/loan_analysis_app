{
 "cells": [
  {
   "cell_type": "code",
   "execution_count": 5,
   "metadata": {},
   "outputs": [],
   "source": [
    "import sys\n",
    "sys.path.append('/home/ubuntu/loan_analysis_app/scripts')\n",
    "\n",
    "import streamlit as st\n",
    "from analyser import analyse\n",
    "import os"
   ]
  },
  {
   "cell_type": "code",
   "execution_count": 6,
   "metadata": {},
   "outputs": [],
   "source": [
    "loan_app_name = \"loan_application_form.docx\"\n",
    "cr_name = \"commercial_registration.png\"\n",
    "il_name = \"industrial_license.png\"\n",
    "\n",
    "# data = analyse(loan_app_name, cr_name, il_name).load_rdata"
   ]
  },
  {
   "cell_type": "code",
   "execution_count": null,
   "metadata": {},
   "outputs": [
    {
     "ename": "TypeError",
     "evalue": "Data_extractor.get() missing 3 required positional arguments: 'loan_app_name', 'cr_name', and 'il_name'",
     "output_type": "error",
     "traceback": [
      "\u001b[0;31m---------------------------------------------------------------------------\u001b[0m",
      "\u001b[0;31mTypeError\u001b[0m                                 Traceback (most recent call last)",
      "Cell \u001b[0;32mIn[7], line 3\u001b[0m\n\u001b[1;32m      1\u001b[0m \u001b[38;5;28;01mfrom\u001b[39;00m \u001b[38;5;21;01mdocument_ext\u001b[39;00m \u001b[38;5;28;01mimport\u001b[39;00m Data_extractor\n\u001b[0;32m----> 3\u001b[0m \u001b[43mData_extractor\u001b[49m\u001b[43m(\u001b[49m\u001b[43m)\u001b[49m\u001b[38;5;241;43m.\u001b[39;49m\u001b[43mget\u001b[49m\u001b[43m(\u001b[49m\u001b[43m)\u001b[49m\n",
      "\u001b[0;31mTypeError\u001b[0m: Data_extractor.get() missing 3 required positional arguments: 'loan_app_name', 'cr_name', and 'il_name'"
     ]
    }
   ],
   "source": [
    "from document_ext import Data_extractor\n",
    "\n",
    "Data_extractor().get(loan_app_name, cr_name, il_name)"
   ]
  },
  {
   "cell_type": "code",
   "execution_count": null,
   "metadata": {},
   "outputs": [],
   "source": []
  }
 ],
 "metadata": {
  "kernelspec": {
   "display_name": ".venv",
   "language": "python",
   "name": "python3"
  },
  "language_info": {
   "codemirror_mode": {
    "name": "ipython",
    "version": 3
   },
   "file_extension": ".py",
   "mimetype": "text/x-python",
   "name": "python",
   "nbconvert_exporter": "python",
   "pygments_lexer": "ipython3",
   "version": "3.12.3"
  }
 },
 "nbformat": 4,
 "nbformat_minor": 2
}
